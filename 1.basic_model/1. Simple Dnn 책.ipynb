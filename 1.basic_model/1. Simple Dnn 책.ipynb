{
 "cells": [
  {
   "cell_type": "code",
   "execution_count": null,
   "id": "7e7a2cbf",
   "metadata": {},
   "outputs": [],
   "source": []
  },
  {
   "cell_type": "code",
   "execution_count": 1,
   "id": "0b3d07b6",
   "metadata": {},
   "outputs": [],
   "source": [
    "import tensorflow"
   ]
  },
  {
   "cell_type": "code",
   "execution_count": 2,
   "id": "de218c2d",
   "metadata": {},
   "outputs": [],
   "source": [
    "from torchvision import datasets , transforms, utils"
   ]
  },
  {
   "cell_type": "code",
   "execution_count": 3,
   "id": "bdcdd7dd",
   "metadata": {},
   "outputs": [],
   "source": [
    "from torch.utils import data"
   ]
  },
  {
   "cell_type": "code",
   "execution_count": 4,
   "id": "fa0511aa",
   "metadata": {},
   "outputs": [
    {
     "data": {
      "text/plain": [
       "<module 'tensorflow.keras' from '/opt/anaconda3/envs/AI/lib/python3.8/site-packages/tensorflow/keras/__init__.py'>"
      ]
     },
     "execution_count": 4,
     "metadata": {},
     "output_type": "execute_result"
    }
   ],
   "source": [
    "tensorflow.keras"
   ]
  },
  {
   "cell_type": "code",
   "execution_count": 4,
   "id": "27c3b822",
   "metadata": {},
   "outputs": [],
   "source": [
    "#import matplotlib.pyplot as plt\n",
    "import numpy as np"
   ]
  },
  {
   "cell_type": "markdown",
   "id": "afb55d3f",
   "metadata": {},
   "source": [
    "#### transform 에서 정규화 ,텐서화 , resize등 정의 가능 특히 tesnsor"
   ]
  },
  {
   "cell_type": "code",
   "execution_count": 5,
   "id": "94d7cb8a",
   "metadata": {},
   "outputs": [],
   "source": [
    "transform = transforms.Compose([\n",
    "    transforms.ToTensor()\n",
    "])"
   ]
  },
  {
   "cell_type": "code",
   "execution_count": 6,
   "id": "e28f0f0e",
   "metadata": {},
   "outputs": [
    {
     "name": "stderr",
     "output_type": "stream",
     "text": [
      "/opt/anaconda3/envs/AI/lib/python3.8/site-packages/torchvision/datasets/mnist.py:498: UserWarning: The given NumPy array is not writeable, and PyTorch does not support non-writeable tensors. This means you can write to the underlying (supposedly non-writeable) NumPy array using the tensor. You may want to copy the array to protect its data or make it writeable before converting it to a tensor. This type of warning will be suppressed for the rest of this program. (Triggered internally at  ../torch/csrc/utils/tensor_numpy.cpp:180.)\n",
      "  return torch.from_numpy(parsed.astype(m[2], copy=False)).view(*s)\n"
     ]
    }
   ],
   "source": [
    "trainset=datasets.FashionMNIST(\n",
    "    root= './.data/',\n",
    "    train = True,\n",
    "    download =True,\n",
    "    transform=transform\n",
    ")"
   ]
  },
  {
   "cell_type": "code",
   "execution_count": 7,
   "id": "06c76cb9",
   "metadata": {},
   "outputs": [],
   "source": [
    "testset= datasets.FashionMNIST(\n",
    "    root =  './.data/',\n",
    "    train = False,\n",
    "    download = True,\n",
    "    transform = transform\n",
    "    \n",
    ")"
   ]
  },
  {
   "cell_type": "markdown",
   "id": "77e81d41",
   "metadata": {},
   "source": [
    "#### loader 준비"
   ]
  },
  {
   "cell_type": "code",
   "execution_count": 8,
   "id": "18aa1844",
   "metadata": {},
   "outputs": [],
   "source": [
    "batch_size = 16\n",
    "train_loader = data.DataLoader(\n",
    "    dataset = trainset,\n",
    "    batch_size = batch_size\n",
    ")\n",
    "test_loader = data.DataLoader(\n",
    "    dataset= testset,\n",
    "    batch_size = batch_size\n",
    ")"
   ]
  },
  {
   "cell_type": "markdown",
   "id": "9acae7e3",
   "metadata": {},
   "source": [
    "## 기본 모듈"
   ]
  },
  {
   "cell_type": "code",
   "execution_count": 9,
   "id": "20809731",
   "metadata": {},
   "outputs": [],
   "source": [
    "import torch\n",
    "import torch.nn as nn\n",
    "import torch.optim as optim\n",
    "import torch.functional as F\n",
    "from torchvision import transforms, datasets"
   ]
  },
  {
   "cell_type": "code",
   "execution_count": 10,
   "id": "ba10d750",
   "metadata": {},
   "outputs": [],
   "source": [
    "USE_CUDA = torch.cuda.is_available()\n",
    "DEVICE = torch.device(\"cuda\" if USE_CUDA else \"cpu\") # 대문자 하면 오류남"
   ]
  },
  {
   "cell_type": "code",
   "execution_count": 36,
   "id": "67ab73fb",
   "metadata": {},
   "outputs": [],
   "source": [
    "EPOCHS= 10\n",
    "batch_size =64"
   ]
  },
  {
   "cell_type": "code",
   "execution_count": 37,
   "id": "044d6d19",
   "metadata": {},
   "outputs": [],
   "source": [
    "class NET(nn.Module):\n",
    "    def __init__(self):\n",
    "        super().__init__()\n",
    "        self.fc1 = nn.Linear(784,256)\n",
    "        #self. fcx = nn.Relu 이런식으로 박아도 되긴 한다\n",
    "        self.fc2 = nn.Linear(256,128)\n",
    "        self.fc3 = nn.Linear(128,10)\n",
    "    \n",
    "    def forward(self,x):\n",
    "        x= x.view(-1,784)\n",
    "        x= torch.nn.functional.relu(self.fc1(x))\n",
    "        x= torch.nn.functional.relu(self.fc2(x))\n",
    "        x= self.fc3(x)\n",
    "        \n",
    "        return x"
   ]
  },
  {
   "cell_type": "markdown",
   "id": "5a4b1cf2",
   "metadata": {},
   "source": [
    "## 인스턴스화 + gpu 올리기"
   ]
  },
  {
   "cell_type": "code",
   "execution_count": 38,
   "id": "d7be7d5a",
   "metadata": {},
   "outputs": [],
   "source": [
    "model = NET().to(DEVICE)"
   ]
  },
  {
   "cell_type": "code",
   "execution_count": 39,
   "id": "508cdb5a",
   "metadata": {},
   "outputs": [],
   "source": [
    "optimizer = optim.SGD(model.parameters(),lr =0.01)"
   ]
  },
  {
   "cell_type": "markdown",
   "id": "7da4d858",
   "metadata": {},
   "source": [
    "## optimizer 까지 설정해주고 loss_funciton 을 train에 지정 "
   ]
  },
  {
   "cell_type": "code",
   "execution_count": 40,
   "id": "8b9a8e0a",
   "metadata": {},
   "outputs": [],
   "source": [
    "def train(model, train_loader , optimizer):\n",
    "    model.train()\n",
    "    for batch_idx, (data,target) in enumerate(train_loader):\n",
    "        data , target = data.to(DEVICE) , target.to(DEVICE)\n",
    "        optimizer.zero_grad()\n",
    "        output = model(data)\n",
    "        loss = torch.nn.functional.cross_entropy(output, target)\n",
    "        loss.backward()\n",
    "        optimizer.step()\n",
    "        \n",
    "        "
   ]
  },
  {
   "cell_type": "markdown",
   "id": "a7695f63",
   "metadata": {},
   "source": [
    "##  loader 에 iteration 돌리면 다음과 같이 프린트 됨 "
   ]
  },
  {
   "cell_type": "code",
   "execution_count": 41,
   "id": "2787f16f",
   "metadata": {},
   "outputs": [],
   "source": [
    "train(model,  train_loader , optimizer)"
   ]
  },
  {
   "cell_type": "code",
   "execution_count": 46,
   "id": "131cf736",
   "metadata": {},
   "outputs": [],
   "source": [
    "def evaluate(model , test_loader):\n",
    "    model.eval()\n",
    "    test_loss =0\n",
    "    correct = 0\n",
    "    with torch.no_grad():\n",
    "        for data , target in test_loader:\n",
    "            data ,target = data.to(DEVICE) , target.to(DEVICE)\n",
    "            output = model(data)\n",
    "            \n",
    "            test_loss += torch.nn.functional.cross_entropy(output , target ,reduction ='sum').item()\n",
    "            \n",
    "            pred = output.max(1,keepdim=True)[1]\n",
    "            correct += pred.eq(target.view_as(pred)).sum().item()\n",
    "    \n",
    "    test_loss /= len(test_loader.dataset)\n",
    "    test_accuracy =100. * correct / len(test_loader.dataset)\n",
    "    return test_loss , test_accuracy"
   ]
  },
  {
   "cell_type": "code",
   "execution_count": 47,
   "id": "498700ce",
   "metadata": {},
   "outputs": [
    {
     "name": "stdout",
     "output_type": "stream",
     "text": [
      "1 0.42870259127616883 84.7\n",
      "2 0.40650788738727567 85.43\n",
      "3 0.39162036435008046 85.92\n",
      "4 0.3826393884956837 86.21\n",
      "5 0.37275293204784393 86.71\n",
      "6 0.3644686605632305 87.07\n",
      "7 0.3588323346197605 87.32\n",
      "8 0.3540464252769947 87.43\n",
      "9 0.35176868402957917 87.57\n",
      "10 0.3474429598778486 87.87\n"
     ]
    }
   ],
   "source": [
    "for epoch in range(1,EPOCHS +1):\n",
    "    train(model , train_loader ,optimizer)\n",
    "    test_loss , test_accuracy = evaluate(model , test_loader)\n",
    "    \n",
    "    print(epoch, test_loss, test_accuracy)"
   ]
  },
  {
   "cell_type": "code",
   "execution_count": null,
   "id": "254be0b4",
   "metadata": {},
   "outputs": [],
   "source": []
  }
 ],
 "metadata": {
  "kernelspec": {
   "display_name": "Python 3",
   "language": "python",
   "name": "python3"
  },
  "language_info": {
   "codemirror_mode": {
    "name": "ipython",
    "version": 3
   },
   "file_extension": ".py",
   "mimetype": "text/x-python",
   "name": "python",
   "nbconvert_exporter": "python",
   "pygments_lexer": "ipython3",
   "version": "3.8.10"
  }
 },
 "nbformat": 4,
 "nbformat_minor": 5
}
